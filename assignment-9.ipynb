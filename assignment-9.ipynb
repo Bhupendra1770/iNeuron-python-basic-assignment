{
 "cells": [
  {
   "cell_type": "markdown",
   "id": "74519726",
   "metadata": {},
   "source": [
    "### 1.To what does a relative path refer ?\n",
    "Ans: The relative path is the path to some file with respect to your current working directory (PWD).         \n",
    "Note: PWD + relative path = absolute path"
   ]
  },
  {
   "cell_type": "markdown",
   "id": "b12a7601",
   "metadata": {},
   "source": [
    "#### 2.Where does an absolute path start with your Operating System ?\n",
    "Ans: In Linux based systems the absolute path starts with '/'. Where as in Windows based systems absolute path starts with 'C:'"
   ]
  },
  {
   "cell_type": "markdown",
   "id": "8aa24bf7",
   "metadata": {},
   "source": [
    "### 3.What does the functions 'os.getcwd()' and 'os.chdir()' do ?\n",
    "Ans: 'os.getcwd()' method tells us the location of current working directory (CWD). Whereas 'os.chdir()' method in Python used to change the current working directory to specified path."
   ]
  },
  {
   "cell_type": "code",
   "execution_count": 1,
   "id": "ba4479f1",
   "metadata": {},
   "outputs": [
    {
     "name": "stdout",
     "output_type": "stream",
     "text": [
      "C:\\Users\\bhupe\\ineuron\\ineuron_python_basic_assingments\n",
      "C:\\Users\\public\n"
     ]
    }
   ],
   "source": [
    "import os\n",
    "print(os.getcwd()) #current Working Directory\n",
    "path = r'C:\\Users\\public'\n",
    "os.chdir(path)\n",
    "print(os.getcwd())"
   ]
  },
  {
   "cell_type": "markdown",
   "id": "8a19a436",
   "metadata": {},
   "source": [
    "### 4.What are '.' and '..' folders ?\n",
    "Ans: '.' Represents the Current Directory Whereas '..' Represents the Parent Directory of the Current Directory  "
   ]
  },
  {
   "cell_type": "markdown",
   "id": "fe1559e2",
   "metadata": {},
   "source": [
    "### 5.In 'C:\\bacon\\eggs\\spam.txt' which part is the dir name and which part is the base name ?"
   ]
  },
  {
   "cell_type": "code",
   "execution_count": 2,
   "id": "9713e793",
   "metadata": {},
   "outputs": [
    {
     "name": "stdout",
     "output_type": "stream",
     "text": [
      "dir name =  C:\\bacon\\eggs\n",
      "base name =  spam.txt\n"
     ]
    }
   ],
   "source": [
    "import os\n",
    "path = r'C:\\bacon\\eggs\\spam.txt'\n",
    "print('dir name = ',os.path.dirname(path))\n",
    "print('base name = ',os.path.basename(path))"
   ]
  },
  {
   "cell_type": "markdown",
   "id": "fa197d1b",
   "metadata": {},
   "source": [
    "### 6.What are the three 'mode' arguments that can be passed to the 'open()' function ?\n",
    "Ans: A file can be Accessed in python using 'open()' function. open function takes two arguments filename and mode of operation (optional). if mode is not provided the default mode is read mode   \n",
    "So, the syntax being: 'open(filename, mode)'\n",
    "\n",
    "'r' – Read Mode.\n",
    "\n",
    "'w' – Write Mode.\n",
    "\n",
    "'r+' – Read/Write Mode.\n",
    "\n",
    "'x' – Exclusive Creating Mode. \n",
    "\n",
    "'a' – Append Mode.\n",
    "\n",
    "'a+' – Append and Read Mode. \n"
   ]
  },
  {
   "cell_type": "markdown",
   "id": "bb450b7d",
   "metadata": {},
   "source": [
    "### 7.What happens if an existing file is opened in write mode ?\n",
    "Ans: Using this mode will overwrite any existing content in a file. If the given file does not exist, a new one will be created."
   ]
  },
  {
   "cell_type": "markdown",
   "id": "071da392",
   "metadata": {},
   "source": [
    "### 8.How do you tell the difference between 'read()' and 'readlines()' ?\n",
    "Ans: The 'read()' will read the whole file at once and then print out the first characters that take up as many bytes as you specify in the parenthesis\n",
    "\n",
    "The 'readline()' function, on the other hand, only reads a single line of the file. You may want to use readline() when you're reading files that are too big for your RAM."
   ]
  },
  {
   "cell_type": "markdown",
   "id": "75561992",
   "metadata": {},
   "source": [
    "### 9.What data structure does a shelf value resemble ?\n",
    "Ans: it contains key and values it represents dictionary."
   ]
  }
 ],
 "metadata": {
  "kernelspec": {
   "display_name": "Python 3 (ipykernel)",
   "language": "python",
   "name": "python3"
  },
  "language_info": {
   "codemirror_mode": {
    "name": "ipython",
    "version": 3
   },
   "file_extension": ".py",
   "mimetype": "text/x-python",
   "name": "python",
   "nbconvert_exporter": "python",
   "pygments_lexer": "ipython3",
   "version": "3.9.12"
  }
 },
 "nbformat": 4,
 "nbformat_minor": 5
}
