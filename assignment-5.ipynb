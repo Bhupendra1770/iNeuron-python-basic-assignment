{
 "cells": [
  {
   "cell_type": "markdown",
   "metadata": {},
   "source": [
    "### 1.What does an empty dictionary's code look like?\n",
    "Ans: An empty dictionary is often represented by two empty curly brackets  \n",
    "`d = {}` or `d = dict()`"
   ]
  },
  {
   "cell_type": "markdown",
   "metadata": {},
   "source": [
    "### 2.what is the value of dictionary value with key 'foo' and the value 42 ?\n",
    "Ans: {'foo':42}"
   ]
  },
  {
   "cell_type": "markdown",
   "metadata": {},
   "source": [
    "### 3.What is the most significant distinction between a dictionary and a list?\n",
    "Ans: Dictionaries are represented by `{}` where as listed are represented by `[]`  \n",
    " The Items stored in a dictionary are Unordered , while the items in a list are ordered, and in dictionary key value pair are present but in list there is no key value pair."
   ]
  },
  {
   "cell_type": "markdown",
   "metadata": {},
   "source": [
    "### 4.What happens if you try to access spam ['foo'] if spam is {'bar':100} ?\n",
    "Ans: raise a keyError `KeyError: 'foo'`"
   ]
  },
  {
   "cell_type": "markdown",
   "metadata": {},
   "source": [
    "### 5.if a dictionary is stored in spam,what is the difference between the expressions 'cat' in spam and 'cat' in spam.keys() ?\n",
    "Ans: There is no difference . The operator checks whether a value exits as a key in the dictionary or not"
   ]
  },
  {
   "cell_type": "markdown",
   "metadata": {},
   "source": [
    "### 6.if a dictionary is stored in spam,what is the difference between the expressions 'cat' in spam and 'cat' in spam.values() ?\n",
    "Ans: 'cat' in spam checks whether there is a 'cat' key in the dictionary, while 'cat' in spam.values() checks whether there is a value 'cat' for one of the keys in spam."
   ]
  },
  {
   "cell_type": "markdown",
   "metadata": {},
   "source": [
    "### 7.what is a shortcut for the following code ?\n",
    "`if 'color' not in spam:\n",
    "    spam['color'] ='black'`\n",
    "    \n",
    "Ans: spam.setdefault('color','black')"
   ]
  },
  {
   "cell_type": "markdown",
   "metadata": {},
   "source": [
    "### 8.How do you 'pretty print' dictionary values using which modules and function ?\n",
    "Ans:1. by using pprint() function of pprint module.  \n",
    "       **Note**: pprint() function doesnot prettify nested dictionaries.   \n",
    "    2. by using dumps() method of json module\n",
    "   "
   ]
  },
  {
   "cell_type": "code",
   "execution_count": 1,
   "metadata": {},
   "outputs": [
    {
     "name": "stdout",
     "output_type": "stream",
     "text": [
      "Printing using pprint() funciton\n",
      "[{'Age': '30',\n",
      "  'Name': 'krish',\n",
      "  'work': {'DS': 'Data science', 'ML': 'machine learning'}},\n",
      " {'Age': '30',\n",
      "  'Name': 'sudhanshu',\n",
      "  'work': {'DS': 'Data science', 'ML': 'machine learning'}},\n",
      " {'Age': '25',\n",
      "  'Name': 'sunny savita',\n",
      "  'work': {'DS': 'Data science', 'ML': 'machine learning'}},\n",
      " {'Age': '24',\n",
      "  'Name': 'avnish',\n",
      "  'work': {'DS': 'Data science', 'ML': 'machine learning'}}]\n",
      "Printing using json funciton\n",
      "[\n",
      "       {\n",
      "              \"Name\": \"krish\",\n",
      "              \"Age\": \"30\",\n",
      "              \"work\": {\n",
      "                     \"DS\": \"Data science\",\n",
      "                     \"ML\": \"machine learning\"\n",
      "              }\n",
      "       },\n",
      "       {\n",
      "              \"Name\": \"sudhanshu\",\n",
      "              \"Age\": \"30\",\n",
      "              \"work\": {\n",
      "                     \"DS\": \"Data science\",\n",
      "                     \"ML\": \"machine learning\"\n",
      "              }\n",
      "       },\n",
      "       {\n",
      "              \"Name\": \"sunny savita\",\n",
      "              \"Age\": \"25\",\n",
      "              \"work\": {\n",
      "                     \"DS\": \"Data science\",\n",
      "                     \"ML\": \"machine learning\"\n",
      "              }\n",
      "       },\n",
      "       {\n",
      "              \"Name\": \"avnish\",\n",
      "              \"Age\": \"24\",\n",
      "              \"work\": {\n",
      "                     \"DS\": \"Data science\",\n",
      "                     \"ML\": \"machine learning\"\n",
      "              }\n",
      "       }\n",
      "]\n"
     ]
    }
   ],
   "source": [
    "ndict = [\n",
    "  {'Name': 'krish', 'Age': '30', 'work': {'DS':'Data science','ML':'machine learning'}},\n",
    "  {'Name': 'sudhanshu', 'Age': '30', 'work': {'DS':'Data science','ML':'machine learning'}},\n",
    "  {'Name': 'sunny savita', 'Age': '25', 'work': {'DS':'Data science','ML':'machine learning'}},\n",
    "  {'Name': 'avnish', 'Age': '24', 'work': {'DS':'Data science','ML':'machine learning'}}\n",
    "]\n",
    "\n",
    "import pprint\n",
    "print('Printing using pprint() funciton')\n",
    "pprint.pprint(ndict)\n",
    "print('Printing using json funciton')\n",
    "import json\n",
    "dump = json.dumps(ndict,indent=7)\n",
    "print(dump)\n",
    "\n",
    "\n"
   ]
  }
 ],
 "metadata": {
  "kernelspec": {
   "display_name": "Python 3 (ipykernel)",
   "language": "python",
   "name": "python3"
  },
  "language_info": {
   "codemirror_mode": {
    "name": "ipython",
    "version": 3
   },
   "file_extension": ".py",
   "mimetype": "text/x-python",
   "name": "python",
   "nbconvert_exporter": "python",
   "pygments_lexer": "ipython3",
   "version": "3.9.15"
  }
 },
 "nbformat": 4,
 "nbformat_minor": 4
}
