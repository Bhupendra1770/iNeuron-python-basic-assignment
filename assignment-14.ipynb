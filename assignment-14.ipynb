{
 "cells": [
  {
   "cell_type": "markdown",
   "id": "1b3c3412",
   "metadata": {},
   "source": [
    "### 1. What does RGBA stand for?\n",
    "Ans:  RGBA  is a four-channel format containing data for  Red , Green , Blue , and an Alpha value. Where 'alpha' allow specification of the opacity of a color."
   ]
  },
  {
   "cell_type": "markdown",
   "id": "76f9a315",
   "metadata": {},
   "source": [
    "### 2. From the Pillow module, how do you get the RGBA value of any images?\n",
    "Ans: ImageColor.getcolor()  gives RGBA value of any image. "
   ]
  },
  {
   "cell_type": "markdown",
   "id": "6f2bf687",
   "metadata": {},
   "source": [
    "### 3. What is a box tuple, and how does it work?\n",
    "Ans: A box tuple is a tuple value of four integers, the left-edge x-coordinate, the top-edge y-coordinate,the width, and the height, respectively."
   ]
  },
  {
   "cell_type": "markdown",
   "id": "7450185d",
   "metadata": {},
   "source": [
    "### 4. Use your image and load in notebook then, How can you find out the width and height of an Image object?"
   ]
  },
  {
   "cell_type": "code",
   "execution_count": 1,
   "id": "898e60eb",
   "metadata": {},
   "outputs": [
    {
     "name": "stdout",
     "output_type": "stream",
     "text": [
      "Width, Height = (251, 201)\n"
     ]
    }
   ],
   "source": [
    "from PIL import Image\n",
    "img = Image.open('download.jpg')\n",
    "print(f'Width, Height = {img.size}')"
   ]
  },
  {
   "cell_type": "markdown",
   "id": "b25289ab",
   "metadata": {},
   "source": [
    "### 5. What method would you call to get Image object for a 100×100 image, excluding the lower-left quarter of it?"
   ]
  },
  {
   "cell_type": "code",
   "execution_count": 2,
   "id": "6422a38a",
   "metadata": {},
   "outputs": [],
   "source": [
    "from PIL import Image\n",
    "img = Image.open('download.jpg')\n",
    "# (It will not change original image)\n",
    "#image = image.crop((left, top, right, bottom))\n",
    "new_img = img.crop((0,50,50,50))"
   ]
  },
  {
   "cell_type": "markdown",
   "id": "aa3d911b",
   "metadata": {},
   "source": [
    "### 6. After making changes to an Image object, how could you save it as an image file?"
   ]
  },
  {
   "cell_type": "code",
   "execution_count": 3,
   "id": "05639016",
   "metadata": {},
   "outputs": [],
   "source": [
    "from PIL import Image\n",
    "img = Image.open('download.jpg')\n",
    "img.save('new_save.jpg')"
   ]
  },
  {
   "cell_type": "markdown",
   "id": "6f356500",
   "metadata": {},
   "source": [
    "### 7. What module contains Pillow’s shape-drawing code?\n",
    "Ans: Pillows 'ImageDraw' module contains Shape drawing methods"
   ]
  },
  {
   "cell_type": "markdown",
   "id": "a459c289",
   "metadata": {},
   "source": [
    "### 8. Image objects do not have drawing methods. What kind of object does? How do you get this kind of object?\n",
    "Ans: ImageDraw objects have shape-drawing methods such as 'point()', 'line()', or 'rectangle()'.They are returned by passing the Image object to the 'ImageDraw.Draw()' function."
   ]
  }
 ],
 "metadata": {
  "kernelspec": {
   "display_name": "Python 3 (ipykernel)",
   "language": "python",
   "name": "python3"
  },
  "language_info": {
   "codemirror_mode": {
    "name": "ipython",
    "version": 3
   },
   "file_extension": ".py",
   "mimetype": "text/x-python",
   "name": "python",
   "nbconvert_exporter": "python",
   "pygments_lexer": "ipython3",
   "version": "3.9.12"
  }
 },
 "nbformat": 4,
 "nbformat_minor": 5
}
