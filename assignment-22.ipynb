{
 "cells": [
  {
   "cell_type": "markdown",
   "id": "7f41ea5b",
   "metadata": {},
   "source": [
    "### 1. What is the result of the code, and explain?"
   ]
  },
  {
   "cell_type": "code",
   "execution_count": 1,
   "id": "f568b909",
   "metadata": {},
   "outputs": [
    {
     "name": "stdout",
     "output_type": "stream",
     "text": [
      "iNeuron\n"
     ]
    }
   ],
   "source": [
    "X = 'iNeuron'\n",
    "def func():\n",
    "    print(X)\n",
    "func()"
   ]
  },
  {
   "cell_type": "markdown",
   "id": "a26286b8",
   "metadata": {},
   "source": [
    "Ans: The Result of this code is 'iNeuron', it's because the function intially looks for the variable 'X' in its local scope,But since there is no local variable 'X', its returns the value of global variable 'x'."
   ]
  },
  {
   "cell_type": "markdown",
   "id": "b785e0b3",
   "metadata": {},
   "source": [
    "### 2. What is the result of the code, and explain?"
   ]
  },
  {
   "cell_type": "code",
   "execution_count": 2,
   "id": "14219394",
   "metadata": {},
   "outputs": [
    {
     "name": "stdout",
     "output_type": "stream",
     "text": [
      "iNeuron\n"
     ]
    }
   ],
   "source": [
    "X = 'iNeuron'\n",
    "def func():\n",
    "    X = 'NI!'\n",
    "    \n",
    "func()\n",
    "print(X)"
   ]
  },
  {
   "cell_type": "markdown",
   "id": "f748479e",
   "metadata": {},
   "source": [
    "Ans: The Result of this code is 'iNeuron, because the function initially looks for the variable 'X' in its local scope if 'X' is not available then it checks for variable 'X' in the global scope, Since here the 'X' is present in the global scope. it prints the value 'iNeuron'."
   ]
  },
  {
   "cell_type": "markdown",
   "id": "177c9d0e",
   "metadata": {},
   "source": [
    "### 3. What does this code print, and why?"
   ]
  },
  {
   "cell_type": "code",
   "execution_count": 3,
   "id": "68758856",
   "metadata": {},
   "outputs": [
    {
     "name": "stdout",
     "output_type": "stream",
     "text": [
      "NI\n",
      "iNeuron\n"
     ]
    }
   ],
   "source": [
    "X = 'iNeuron'\n",
    "def func():\n",
    "    X = 'NI'\n",
    "    print(X)\n",
    "func()\n",
    "print(X)"
   ]
  },
  {
   "cell_type": "markdown",
   "id": "11437f08",
   "metadata": {},
   "source": [
    "Ans: The output of the code is 'NI and 'iNeuron'. 'X=NI' is in the local scope of the function 'func()' hence the function prints the x value as  'NI'.  'X' = 'iNeuron' is in the global scope. hence print(X) prints output as iNeuron."
   ]
  },
  {
   "cell_type": "markdown",
   "id": "78fd8b7b",
   "metadata": {},
   "source": [
    "### 4. What output does this code produce? Why?"
   ]
  },
  {
   "cell_type": "code",
   "execution_count": 4,
   "id": "120260a6",
   "metadata": {},
   "outputs": [
    {
     "name": "stdout",
     "output_type": "stream",
     "text": [
      "NI\n"
     ]
    }
   ],
   "source": [
    "X = 'iNeuron'\n",
    "def func():\n",
    "    global X\n",
    "    X = 'NI'\n",
    "func()\n",
    "print(X)"
   ]
  },
  {
   "cell_type": "markdown",
   "id": "7782ffdd",
   "metadata": {},
   "source": [
    "Ans: The output of the code is 'NI'. the 'global' keyword allows a variable to be accessible in the current scope. since we are using global keyword inside the function 'func' it directly access the variable in 'X' in global scope. and changes its value to 'NI'. hence the output of the code is 'NI'."
   ]
  },
  {
   "cell_type": "markdown",
   "id": "56a55c9f",
   "metadata": {},
   "source": [
    "### 5. What about this code—what’s the output, and why?   "
   ]
  },
  {
   "cell_type": "code",
   "execution_count": 5,
   "id": "6f484bb5",
   "metadata": {},
   "outputs": [
    {
     "name": "stdout",
     "output_type": "stream",
     "text": [
      "NI\n"
     ]
    },
    {
     "data": {
      "text/plain": [
       "'iNeuron'"
      ]
     },
     "execution_count": 5,
     "metadata": {},
     "output_type": "execute_result"
    }
   ],
   "source": [
    "X = 'iNeuron'\n",
    "def func():\n",
    "    X = 'NI'\n",
    "    def nested():\n",
    "        print(X)\n",
    "    nested()\n",
    "func()\n",
    "X"
   ]
  },
  {
   "cell_type": "markdown",
   "id": "5a9fc14a",
   "metadata": {},
   "source": [
    "Ans: The output of the code is 'NI'. the reason for this output is if a function wants to access a variable, if its not available in its localscope. it looks for the variable in its global scope. similarly here also function 'nested' looks for variable 'X' in its global scope. hence the output of the code is 'NI'"
   ]
  },
  {
   "cell_type": "markdown",
   "id": "f21745c5",
   "metadata": {},
   "source": [
    "### 6. How about this code: what is its output in Python 3, and explain?"
   ]
  },
  {
   "cell_type": "code",
   "execution_count": 6,
   "id": "c45b6b46",
   "metadata": {},
   "outputs": [
    {
     "name": "stdout",
     "output_type": "stream",
     "text": [
      "Spam\n"
     ]
    }
   ],
   "source": [
    "def func():\n",
    "    X = 'NI'\n",
    "    def nested():\n",
    "        nonlocal X\n",
    "        X = 'Spam'\n",
    "    nested()\n",
    "    print(X)\n",
    "func()"
   ]
  },
  {
   "cell_type": "markdown",
   "id": "a45fc2cd",
   "metadata": {},
   "source": [
    "Ans: The output of the code is 'Spam'. 'nonlocal' keyword in python is used to declare a variable as not local.Hence the statement 'X = \"Spam\"' is modified in the global scope. hence the output of 'print(X)' statement is 'Spam'."
   ]
  }
 ],
 "metadata": {
  "kernelspec": {
   "display_name": "Python 3 (ipykernel)",
   "language": "python",
   "name": "python3"
  },
  "language_info": {
   "codemirror_mode": {
    "name": "ipython",
    "version": 3
   },
   "file_extension": ".py",
   "mimetype": "text/x-python",
   "name": "python",
   "nbconvert_exporter": "python",
   "pygments_lexer": "ipython3",
   "version": "3.9.12"
  }
 },
 "nbformat": 4,
 "nbformat_minor": 5
}
