{
 "cells": [
  {
   "cell_type": "markdown",
   "id": "4348b19e",
   "metadata": {},
   "source": [
    "### 1. Add the current date to the text file today.txt as a string."
   ]
  },
  {
   "cell_type": "code",
   "execution_count": 1,
   "id": "987ad5ac",
   "metadata": {},
   "outputs": [],
   "source": [
    "import datetime\n",
    "file = open('today.txt','w')\n",
    "file.write(datetime.datetime.now().strftime(\"%d-%m-%Y\"))\n",
    "file.close()"
   ]
  },
  {
   "cell_type": "markdown",
   "id": "f0a23762",
   "metadata": {},
   "source": [
    "### 2. Read the text file today.txt into the string today_string"
   ]
  },
  {
   "cell_type": "code",
   "execution_count": 2,
   "id": "766143ea",
   "metadata": {},
   "outputs": [
    {
     "name": "stdout",
     "output_type": "stream",
     "text": [
      "30-12-2022\n"
     ]
    }
   ],
   "source": [
    "file = open('today.txt','r')\n",
    "today_string = file.read()\n",
    "print(today_string)"
   ]
  },
  {
   "cell_type": "markdown",
   "id": "554addb6",
   "metadata": {},
   "source": [
    "### 3. Parse the date from today_string."
   ]
  },
  {
   "cell_type": "code",
   "execution_count": 3,
   "id": "a422da5b",
   "metadata": {},
   "outputs": [
    {
     "name": "stdout",
     "output_type": "stream",
     "text": [
      "2022-12-30 00:00:00\n"
     ]
    }
   ],
   "source": [
    "from datetime import datetime\n",
    "parsed_data = datetime.strptime(today_string, '%d-%m-%Y')\n",
    "print(parsed_data)"
   ]
  },
  {
   "cell_type": "markdown",
   "id": "423d3278",
   "metadata": {},
   "source": [
    "### 4. List the files in your current directory"
   ]
  },
  {
   "cell_type": "code",
   "execution_count": 4,
   "id": "cbacd0e4",
   "metadata": {},
   "outputs": [
    {
     "name": "stdout",
     "output_type": "stream",
     "text": [
      "assignment-10.ipynb\n",
      "assignment-11.ipynb\n",
      "assignment-12.ipynb\n",
      "assignment-13.ipynb\n",
      "assignment-14.ipynb\n",
      "assignment-15.ipynb\n",
      "assignment-16.ipynb\n",
      "assignment-17.ipynb\n",
      "assignment-18.ipynb\n",
      "assignment-19.ipynb\n",
      "assignment-20.ipynb\n",
      "assignment-21.ipynb\n",
      "assignment-3.ipynb\n",
      "assignment-4.ipynb\n",
      "assignment-5.ipynb\n",
      "assignment-6.ipynb\n",
      "assignment-7.ipynb\n",
      "assignment-8.ipynb\n",
      "assignment-9.ipynb\n",
      "Assignment_1.docx\n",
      "assingment-2.ipynb\n",
      "today.txt\n",
      "COMMIT_EDITMSG\n",
      "config\n",
      "description\n",
      "HEAD\n",
      "index\n",
      "applypatch-msg.sample\n",
      "commit-msg.sample\n",
      "fsmonitor-watchman.sample\n",
      "post-update.sample\n",
      "pre-applypatch.sample\n",
      "pre-commit.sample\n",
      "pre-merge-commit.sample\n",
      "pre-push.sample\n",
      "pre-rebase.sample\n",
      "pre-receive.sample\n",
      "prepare-commit-msg.sample\n",
      "push-to-checkout.sample\n",
      "update.sample\n",
      "exclude\n",
      "HEAD\n",
      "main\n",
      "main\n",
      "632bbbb816b97a80aee7d2e267912db9bf70d3\n",
      "802cb29bbfcb7d07165880dd4788a90554741b\n",
      "9bd5f1f0569efc711ed343542f80bb78550cf1\n",
      "aa0901af006dc579b2dc9c773527d3cf87ae97\n",
      "116e717fc8a28f179bf588014d507cf88098da\n",
      "7f3e4d01637cdbe03b9e6d4970d63797788aa8\n",
      "d39228ba9450230f61be8b1a6f778accc44a92\n",
      "7bc48b08a3ca2a9203ffc30acc0f421876e8de\n",
      "55ed42ffaeed3652712961c7a54fe1edfe0033\n",
      "7a00cfced036a64cc4841449d49aa375027871\n",
      "16f4e5ad85dfc026a216504d4963c23c9a6a85\n",
      "d3409f402f0409d2223ef17f2724ccf3b66443\n",
      "b69d2081ba5c96e30747987380a1084be74862\n",
      "026455e5ec6d1ab85cfbc584927dd47258bc25\n",
      "3095ca294980018a9a3cc6899c95cb9e09e5ce\n",
      "a80c96af4623e605f06cde6c991d803cf90ae7\n",
      "ebfef5db1fa4bd8c7ab72046cb456222fe1432\n",
      "695f9abb3d028e1c8dd6aee6bc250c24eb49f7\n",
      "b31e6d98240c2cc040d667a1573aba441aad8b\n",
      "698be07a7d76e8f5ba9fdd8e9c04af3457f585\n",
      "2144dc02cef5c1a707c740888574316992e122\n",
      "0de37ed4d3ae8ad342e9b8667a472acc5e7fd8\n",
      "1ebddff262b714695941d47864b33126f8edf0\n",
      "3fcab7ed6e9634e198cf5555ceb88932c9a245\n",
      "4bc30261682f0cc8f8e8de677952d95bd61804\n",
      "c7e66a35993b97a4f43d534740bc1ce82298c5\n",
      "38dba2db6954a884b81bc411f934c7583b57b9\n",
      "3b2a4e43926f005d526a2839c1a5376241f182\n",
      "d5dc28478328db15c3525f0396a39c1ea48337\n",
      "0d326e19dec750562171e581acdc181c19edfd\n",
      "4946cffad56a5d3154b0921a9ece9438566552\n",
      "31f6aa5284d71f262a6f2dbdbb6f8070e51051\n",
      "b5921ff575729c039019a7f5eae61a4cc10f35\n",
      "0d235d954a04fd97cb96df73e2e6a66fb2f8ff\n",
      "de37801f9e6b071f389d97d396a91372006933\n",
      "f6fe41951200f408007b21316aeb6dd4352478\n",
      "72c132dc2b95bfce91ecba679d61e415d2da71\n",
      "7c2d72cfc0658bba3d84b6e9394fefc214355a\n",
      "004c2b7617f4895c8aea45cb0d73a9b21d233d\n",
      "2c875e413906c0dd1d6d24415de4b01f32a7d4\n",
      "b7b843023c6ee0c6060edfc3f9b72dd99a9350\n",
      "602ec90aea96bb00d164d0660232fc79ff3a0d\n",
      "149d0c1c35943b6b80ed44a9b64258734c0f17\n",
      "17ae90859948e28448a48c16f5fbc560bb23a1\n",
      "2750a0b7a3e0c2970c7f4e570e5a33dc6708c4\n",
      "bfe14d18a8aeacb7163d3dcbb2e5894ff1bd4d\n",
      "cde4bf7c096d586dd19e25a0764e303caa3685\n",
      "560c41d78ce826bdf0b1467e5d4d86af82de6e\n",
      "d7084c9f8bcb94e81bdc25dc5ed33e00873d77\n",
      "62214aebe5a8413a07ffe3ee301e6d604fd8b8\n",
      "a87cde8c864c213e983079e8b8d524f44336d4\n",
      "60176c8b54456a4a7c5f342ea98a7a9e59e8c3\n",
      "b3b39873ca36e23bcb588c393e9445536f27f8\n",
      "61e87b5fba1bf83b1e44ca9a055786efb8a714\n",
      "065e9199774649c46d7fd2c7715b869f60660f\n",
      "6dc42f904d0fa2c83c9b6fda9a80c752e82e57\n",
      "07140c4e5653ef8fa4cd1feb6cbc95442fe78b\n",
      "ff2d1f10e026996e9f06c8f41332ae082b99ed\n",
      "e763a72f36c720269a0e0ccbff7409d2cb335d\n",
      "dc49c2987dee56b7599a41abcfb53c6fc47ec5\n",
      "b23a7f0f9a5224c5f08de17212abdbbf725be4\n",
      "7ecc60c3a89d6676d8bf9b73caf25728cff184\n",
      "fa2bc5c30449237f19f4ec484ba4700dd84a3c\n",
      "5a5d88ee2d00802d9c98d55a2714164187d025\n",
      "fe7894719bb30257a3d7b95c567190eb15eb11\n",
      "2e6cd616d5fe8389fabda0a9f530532ce28213\n",
      "5fcd07047f4981cc04d0d12e8a9a24aacb13a3\n",
      "b56668809991348365ec89ce06d46e7a52288e\n",
      "19544d3cff27b97364a3e8f3715e0361ecba87\n",
      "880a9aa6fae888d0df166da32c5a26c2b21ced\n",
      "e3afebf6d4c21b5e8b5c2245f9e314f9a537f3\n",
      "6f96506296103c42ff6d609e7041054e2c42b2\n",
      "78ccccc4392e83ba9e5aa13cb3fcf9954fc739\n",
      "809b4759823f00e201cb9e311ac1c6a667b06d\n",
      "2f6beea5a0f5f7c1f130d6f749dd1455d4b17c\n",
      "b2584458a340b10be0e9c01a2bf8a2a7bd073f\n",
      "807e8f583f9a779c9422f6dea042c58b04fb77\n",
      "ce09cfe9ec0984448f644ec4409e211dab59b5\n",
      "21e3d7d9bf5dfe7e4262cf6e016ea20d38be10\n",
      "0ad5a40707602e0f87c4a026eba2dce96533d4\n",
      "a76ed172084d65905ee027bc6429b96c8e8a1e\n",
      "f4c21f8cfbaa4c72a8e9ad82194efbb03324af\n",
      "86a5f9016174a9526cc748f425bad867f8300d\n",
      "c2fd2909909dad8f7acaa523a202a7f5603961\n",
      "80945e52e2eb5a25aeb89a42b56e14acd08832\n",
      "80c210da9dc512f5150f191bda2a53c7cb8bf8\n",
      "30a37acd7e72793889e0747b1b710334b87a7d\n",
      "e7afd3aba0b623cb23ddcfca9ff849f0ab5e76\n",
      "85d936beed2218ad5308099ffcbf328fc1c2a3\n",
      "0e6049b9a1f556fed9edae650b9254a97c9eef\n",
      "9012e6f9e6818f5972b2255fd54cb2e80949d5\n",
      "9de29bb2d1d6434b8b29ae775ad8c2e48c5391\n",
      "b89a2f36189b294b21c16999c3f8091a374fef\n",
      "db08113a9d22f4469e35357c54718705749dc8\n",
      "7f686da4565985df3bf3225a796a84f4bd7d90\n",
      "8c3719edfac2316026f050be267fdab17c6177\n",
      "de0056a3cd4185adbae8845ff1b80416e7d241\n",
      "0a374b843ec78b834b8dba399658aa7070c5c2\n",
      "03d19bdd1f66969a8a037169f4123a00746033\n",
      "e1901f77a929e6fa4e412617c1234a0fc94f2d\n",
      "main\n",
      "main\n",
      "assignment-10-checkpoint.ipynb\n",
      "assignment-11-checkpoint.ipynb\n",
      "assignment-12-checkpoint.ipynb\n",
      "assignment-13-checkpoint.ipynb\n",
      "assignment-14-checkpoint.ipynb\n",
      "assignment-15-checkpoint.ipynb\n",
      "assignment-16-checkpoint.ipynb\n",
      "assignment-17-checkpoint.ipynb\n",
      "assignment-18-checkpoint.ipynb\n",
      "assignment-19-checkpoint.ipynb\n",
      "assignment-20-checkpoint.ipynb\n",
      "assignment-21-checkpoint.ipynb\n",
      "assignment-4-checkpoint.ipynb\n",
      "assignment-5-checkpoint.ipynb\n",
      "assignment-6-checkpoint.ipynb\n",
      "assignment-7-checkpoint.ipynb\n",
      "assignment-8-checkpoint.ipynb\n",
      "assignment-9-checkpoint.ipynb\n",
      "zoo.cpython-39.pyc\n"
     ]
    }
   ],
   "source": [
    "import os\n",
    "for folders, subfolders, files in os.walk(os.getcwd()):\n",
    "    for file in files:\n",
    "        print(file)"
   ]
  },
  {
   "cell_type": "markdown",
   "id": "667a203b",
   "metadata": {},
   "source": [
    "### 5. Create a list of all of the files in your parent directory (minimum five files should be available)."
   ]
  },
  {
   "cell_type": "code",
   "execution_count": 5,
   "id": "a789618b",
   "metadata": {},
   "outputs": [
    {
     "data": {
      "text/plain": [
       "['.git',\n",
       " '.ipynb_checkpoints',\n",
       " 'assignment-10.ipynb',\n",
       " 'assignment-11.ipynb',\n",
       " 'assignment-12.ipynb',\n",
       " 'assignment-13.ipynb',\n",
       " 'assignment-14.ipynb',\n",
       " 'assignment-15.ipynb',\n",
       " 'assignment-16.ipynb',\n",
       " 'assignment-17.ipynb',\n",
       " 'assignment-18.ipynb',\n",
       " 'assignment-19.ipynb',\n",
       " 'assignment-20.ipynb',\n",
       " 'assignment-21.ipynb',\n",
       " 'assignment-3.ipynb',\n",
       " 'assignment-4.ipynb',\n",
       " 'assignment-5.ipynb',\n",
       " 'assignment-6.ipynb',\n",
       " 'assignment-7.ipynb',\n",
       " 'assignment-8.ipynb',\n",
       " 'assignment-9.ipynb',\n",
       " 'Assignment_1.docx',\n",
       " 'assingment-2.ipynb',\n",
       " 'today.txt',\n",
       " '__pycache__']"
      ]
     },
     "execution_count": 5,
     "metadata": {},
     "output_type": "execute_result"
    }
   ],
   "source": [
    "import os \n",
    "os.listdir()"
   ]
  },
  {
   "cell_type": "markdown",
   "id": "917dd9fe",
   "metadata": {},
   "source": [
    "### 6. Use multiprocessing to create three separate processes. Make each one wait a random number of seconds between one and five, print the current time, and then exit."
   ]
  },
  {
   "cell_type": "code",
   "execution_count": 6,
   "id": "17624921",
   "metadata": {},
   "outputs": [
    {
     "name": "stdout",
     "output_type": "stream",
     "text": [
      "2022-12-30 18:13:22.635465\n",
      "Process_one_Starttime -> 2022-12-30 18:13:22.635465\n",
      "Process_one_Endtime -> 2022-12-30 18:13:23.643797\n",
      "Process_two_Starttime -> 2022-12-30 18:13:23.643797\n",
      "Process_two_Endtime -> 2022-12-30 18:13:27.656628\n",
      "Process_two_Starttime -> 2022-12-30 18:13:27.656976\n",
      "Process_two_Endtime -> 2022-12-30 18:13:31.658226\n",
      "It takes 9.38420581817627 seconds\n"
     ]
    }
   ],
   "source": [
    "import multiprocessing,time,datetime\n",
    "import random\n",
    "start = time.time()\n",
    "def process1():\n",
    "    print(f'Process_one_Starttime -> {datetime.datetime.now()}')\n",
    "    time.sleep(random.randint(1,5))\n",
    "    print(f'Process_one_Endtime -> {datetime.datetime.now()}')\n",
    "    \n",
    "def process2():\n",
    "    print(f'Process_two_Starttime -> {datetime.datetime.now()}')\n",
    "    time.sleep(random.randint(1,5))\n",
    "    print(f'Process_two_Endtime -> {datetime.datetime.now()}')\n",
    "\n",
    "def process3():\n",
    "    print(f'Process_two_Starttime -> {datetime.datetime.now()}')\n",
    "    time.sleep(random.randint(1,5))\n",
    "    print(f'Process_two_Endtime -> {datetime.datetime.now()}')\n",
    "    \n",
    "print(datetime.datetime.now())\n",
    "if __name__==\"__main__\":\n",
    "    \n",
    "    \n",
    "    \n",
    "    p1 = multiprocessing.Process(target=process1())\n",
    "    p2 = multiprocessing.Process(target=process2())\n",
    "    p3 = multiprocessing.Process(target=process3())\n",
    "\n",
    "    p1.start()\n",
    "    p2.start()\n",
    "    p3.start()\n",
    "\n",
    "    p1.join()\n",
    "    p2.join()\n",
    "    p3.join()\n",
    "\n",
    "end = time.time()\n",
    "    \n",
    "\n",
    "print(\"It takes \" +str(end-start)+\" seconds\")"
   ]
  },
  {
   "cell_type": "markdown",
   "id": "26507e78",
   "metadata": {},
   "source": [
    "### 7. Create a date object of your day of birth."
   ]
  },
  {
   "cell_type": "code",
   "execution_count": 7,
   "id": "ae467c1c",
   "metadata": {},
   "outputs": [
    {
     "name": "stdout",
     "output_type": "stream",
     "text": [
      "2001-03-17 00:00:00 <class 'datetime.datetime'>\n"
     ]
    }
   ],
   "source": [
    "from datetime import datetime\n",
    "my_dob = datetime.strptime('17/03/2001','%d/%m/%Y')\n",
    "print(my_dob, type(my_dob))"
   ]
  },
  {
   "cell_type": "markdown",
   "id": "cf475db9",
   "metadata": {},
   "source": [
    "### 8. What day of the week was your day of birth?"
   ]
  },
  {
   "cell_type": "code",
   "execution_count": 8,
   "id": "7a66ae43",
   "metadata": {},
   "outputs": [
    {
     "data": {
      "text/plain": [
       "'Saturday'"
      ]
     },
     "execution_count": 8,
     "metadata": {},
     "output_type": "execute_result"
    }
   ],
   "source": [
    "from datetime import datetime\n",
    "my_dob = datetime(2001,3,17)\n",
    "my_dob.strftime(\"%A\")"
   ]
  },
  {
   "cell_type": "markdown",
   "id": "f59779de",
   "metadata": {},
   "source": [
    "### 9. When will you be (or when were you) 10,000 days old?"
   ]
  },
  {
   "cell_type": "code",
   "execution_count": 9,
   "id": "a54e28a0",
   "metadata": {},
   "outputs": [
    {
     "data": {
      "text/plain": [
       "datetime.datetime(2028, 8, 2, 0, 0)"
      ]
     },
     "execution_count": 9,
     "metadata": {},
     "output_type": "execute_result"
    }
   ],
   "source": [
    "from datetime import datetime, timedelta\n",
    "my_dob = datetime.strptime(\"17/03/2001\",'%d/%m/%Y')\n",
    "new_date = my_dob+timedelta(10000)\n",
    "new_date"
   ]
  }
 ],
 "metadata": {
  "kernelspec": {
   "display_name": "Python 3 (ipykernel)",
   "language": "python",
   "name": "python3"
  },
  "language_info": {
   "codemirror_mode": {
    "name": "ipython",
    "version": 3
   },
   "file_extension": ".py",
   "mimetype": "text/x-python",
   "name": "python",
   "nbconvert_exporter": "python",
   "pygments_lexer": "ipython3",
   "version": "3.9.12"
  }
 },
 "nbformat": 4,
 "nbformat_minor": 5
}
