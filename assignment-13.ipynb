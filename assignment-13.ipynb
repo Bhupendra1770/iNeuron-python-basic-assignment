{
 "cells": [
  {
   "cell_type": "markdown",
   "id": "673ab80a",
   "metadata": {},
   "source": [
    "### 1. What advantages do Excel spreadsheets have over CSV spreadsheets?\n",
    "Ans: The Advantages of Excel over CSV are:\n",
    "1. CSV files are plain-text files, Does not contain any formulas. It is also known as flat files\n",
    "2. Excel (XLS and XLSX) file formats are better for storing and analysing complex data.\n",
    "3. An Excel not only stores data but can also do operations on the data using some diffrent formulas."
   ]
  },
  {
   "cell_type": "markdown",
   "id": "aa6e958d",
   "metadata": {},
   "source": [
    "### 2.What do you pass to csv.reader() and csv.writer() to create reader and writer objects?"
   ]
  },
  {
   "cell_type": "code",
   "execution_count": 1,
   "id": "c5667268",
   "metadata": {},
   "outputs": [
    {
     "name": "stdout",
     "output_type": "stream",
     "text": [
      "['Hi this is Bhupendra Rajput', ' from Full Stack Data Science Bootcamp.']\n"
     ]
    }
   ],
   "source": [
    "import csv\n",
    "with open('test.csv','r') as file:\n",
    "    csv_file = csv.reader(file,delimiter=',')\n",
    "    for ele in csv_file:\n",
    "        print(ele)\n",
    "file.close()"
   ]
  },
  {
   "cell_type": "markdown",
   "id": "a4578f56",
   "metadata": {},
   "source": [
    "### 3. What modes do File objects for reader and writer objects need to be opened in?\n",
    "Ans: csv.reader(file_object), the file objects needed to be opened in read mode='r', Whereas for csv.writer(file_object) the file objects needed to be opened in write mode='w'\n"
   ]
  },
  {
   "cell_type": "markdown",
   "id": "a78017ec",
   "metadata": {},
   "source": [
    "### 4. What method takes a list argument and writes it to a CSV file?\n",
    "Ans: csv.writer class provides two methods for writing to CSV. writerow() method writes a single row at a time. Whereas writerows() method is used to write multiple rows at a time."
   ]
  },
  {
   "cell_type": "code",
   "execution_count": 2,
   "id": "ba3e46b5",
   "metadata": {},
   "outputs": [
    {
     "name": "stdout",
     "output_type": "stream",
     "text": [
      "      Name     Model  power  year\n",
      "0   yamaha      FZ-s    150  2018\n",
      "1   ducati  x diavel   2300  2017\n",
      "2  Dominar         S    400  2016\n"
     ]
    }
   ],
   "source": [
    "import csv \n",
    "import pandas as pd\n",
    "\n",
    "fields = ['Name', 'Model', 'power' , 'year'] \n",
    "rows = [ \n",
    "            ['yamaha', 'FZ-s', '150', '2018'],  \n",
    "            ['ducati', 'x diavel', '2300', '2017'], \n",
    "            ['Dominar', 'S', '400', '2016']\n",
    "       ] \n",
    "with open(\"BikesData.csv\", 'w') as csvfile: \n",
    "    csvwriter = csv.writer(csvfile) # creating a csv writer object \n",
    "    csvwriter.writerow(fields) # writing the fields \n",
    "    csvwriter.writerows(rows) # writing the data rows \n",
    "    \n",
    "data = pd.read_csv(\"BikesData.csv\") #cheacking data inserted or not\n",
    "print(data)"
   ]
  },
  {
   "cell_type": "markdown",
   "id": "78879164",
   "metadata": {},
   "source": [
    "### 5. What do the keyword arguments delimiter and line terminator do?\n",
    "Ans: The delimiter is the character that appears between cells on a row. By default, the delimiter for a CSV file is a comma. The line terminator is the character that comes at the end of a row. By default, the line terminator is a newline"
   ]
  },
  {
   "cell_type": "markdown",
   "id": "91452f89",
   "metadata": {},
   "source": [
    "### 6. What function takes a string of JSON data and returns a Python data structure?\n",
    "Ans:  loads() method takes a string of JSON data and returns a Python data structure"
   ]
  },
  {
   "cell_type": "code",
   "execution_count": 3,
   "id": "52376f3f",
   "metadata": {},
   "outputs": [
    {
     "name": "stdout",
     "output_type": "stream",
     "text": [
      "{'Name': 'Ducati', 'Power': '2300', 'model': 'x diavel'}\n",
      "Type of new_data_json is <class 'dict'>\n"
     ]
    }
   ],
   "source": [
    "import json\n",
    "data_json ='''{\n",
    "    \"Name\": \"Ducati\",        \n",
    "    \"Power\": \"2300\",\n",
    "    \"model\": \"x diavel\"\n",
    "}'''\n",
    "# Type of data_json is string\n",
    "new_data_json = json.loads(data_json)\n",
    "print(new_data_json)\n",
    "print(f'Type of new_data_json is {type(new_data_json)}')"
   ]
  },
  {
   "cell_type": "markdown",
   "id": "1679716d",
   "metadata": {},
   "source": [
    "### 7. What function takes a Python data structure and returns a string of JSON data?\n",
    "Ans:  dumps()  method takes a python data structure and returns a string of JSON data"
   ]
  },
  {
   "cell_type": "code",
   "execution_count": 4,
   "id": "8ab5a827",
   "metadata": {},
   "outputs": [
    {
     "name": "stdout",
     "output_type": "stream",
     "text": [
      "Type of data_json is <class 'dict'>\n",
      "{\"Name\": \"Ducati\", \"Power\": \"2300\", \"model\": \"x diavel\"}\n",
      "Type of new_data_json is <class 'str'>\n"
     ]
    }
   ],
   "source": [
    "import json\n",
    "data_json ={\n",
    "    \"Name\": \"Ducati\",        \n",
    "    \"Power\": \"2300\",\n",
    "    \"model\": \"x diavel\"\n",
    "}\n",
    "print(f'Type of data_json is {type(data_json)}')\n",
    "new_data_json = json.dumps(data_json)\n",
    "print(new_data_json)\n",
    "print(f'Type of new_data_json is {type(new_data_json)}')"
   ]
  }
 ],
 "metadata": {
  "kernelspec": {
   "display_name": "Python 3 (ipykernel)",
   "language": "python",
   "name": "python3"
  },
  "language_info": {
   "codemirror_mode": {
    "name": "ipython",
    "version": 3
   },
   "file_extension": ".py",
   "mimetype": "text/x-python",
   "name": "python",
   "nbconvert_exporter": "python",
   "pygments_lexer": "ipython3",
   "version": "3.9.12"
  }
 },
 "nbformat": 4,
 "nbformat_minor": 5
}
