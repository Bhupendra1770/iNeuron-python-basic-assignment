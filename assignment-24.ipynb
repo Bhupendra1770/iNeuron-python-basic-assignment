{
 "cells": [
  {
   "cell_type": "markdown",
   "id": "4537a0e0",
   "metadata": {},
   "source": [
    "### 1. What is the relationship between def statements and lambda expressions ?\n",
    "Ans: Lambda Function, also referred to as 'Anonymous function' is same as a regular python function but can be defined without a name. While normal functions are defined using the def keyword, anonymous functions are defined using the lambda keyword. However,they are restricted to single line of expression."
   ]
  },
  {
   "cell_type": "markdown",
   "id": "a88f6be0",
   "metadata": {},
   "source": [
    "### 2. What is the benefit of lambda?\n",
    "Ans:\n",
    "1. They can be immediately passed around (no variable needed)\n",
    "2. They can only have a single line of code within them\n",
    "3. They return automatically\n"
   ]
  },
  {
   "cell_type": "markdown",
   "id": "f25bb1a0",
   "metadata": {},
   "source": [
    "### 3. Compare and contrast map, filter, and reduce.\n",
    "Ans: The differences between map, filter and reduce are: \n",
    "1. map() = The map() function is a type of higher order. This function takes another function as a parameter\n",
    "along with a sequence of iterables and returns an output after applying the function to each iterable present in the\n",
    "sequence. \n",
    "2. filter() = The filter() function is used to create an output list consisting of values for which the function returns true.\n",
    "3. reduce() = The reduce() function, as the name describes, applies a given function to the iterables and returns a single value"
   ]
  },
  {
   "cell_type": "markdown",
   "id": "1896668e",
   "metadata": {},
   "source": [
    "### 4. What are function annotations, and how are they used?\n",
    "Ans:Function annotations are arbitrary python expressions that are associated with various part of functions. These expressions are evaluated at compile time and have no life in python's runtime environment. Python does not attach any meaning to these annotations.\n",
    "Whereas the annotations for excess parameters are as − def func (**args: expression, **kwargs: expression):"
   ]
  },
  {
   "cell_type": "markdown",
   "id": "122c02f9",
   "metadata": {},
   "source": [
    "### 5. What are recursive functions, and how are they used?"
   ]
  },
  {
   "cell_type": "markdown",
   "id": "ae21c279",
   "metadata": {},
   "source": [
    "Ans: function recursion, which means a defined function can call itself. Recursion is a common mathematical and programming concept. It means that a function calls itself. This has the benefit of meaning that you can loop through data to reach a result."
   ]
  },
  {
   "cell_type": "markdown",
   "id": "8776de68",
   "metadata": {},
   "source": [
    "### 6. What are some general design guidelines for coding functions?"
   ]
  },
  {
   "cell_type": "markdown",
   "id": "829d132c",
   "metadata": {},
   "source": [
    "Ans: some general guidelines:\n",
    "1. Try to code in try and except block.\n",
    "2. Try to log every activity.\n",
    "3. Try to reusability of code.\n",
    "4. use proper vaibale name.\n",
    "5. Always use a docstring to explain the functionality of the function\n",
    "6. Proper Identation to increase the code readability\n",
    "7. write code in clean way with comment so anyone can understand our code"
   ]
  },
  {
   "cell_type": "markdown",
   "id": "22a55ec6",
   "metadata": {},
   "source": [
    "### 7. Name three or more ways that functions can communicate results to a caller.\n",
    "Ans: Some of the ways in which a function can communicate with the calling function:\n",
    "1. print\n",
    "2. return\n",
    "3. yield"
   ]
  }
 ],
 "metadata": {
  "kernelspec": {
   "display_name": "Python 3 (ipykernel)",
   "language": "python",
   "name": "python3"
  },
  "language_info": {
   "codemirror_mode": {
    "name": "ipython",
    "version": 3
   },
   "file_extension": ".py",
   "mimetype": "text/x-python",
   "name": "python",
   "nbconvert_exporter": "python",
   "pygments_lexer": "ipython3",
   "version": "3.9.12"
  }
 },
 "nbformat": 4,
 "nbformat_minor": 5
}
