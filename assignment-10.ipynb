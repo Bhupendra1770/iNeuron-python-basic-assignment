{
 "cells": [
  {
   "cell_type": "markdown",
   "id": "bb2ae223",
   "metadata": {},
   "source": [
    "### 1. How do you distinguish between shutil.copy() and shutil.copytree()?\n",
    "\n",
    "Ans: shutil.copy() will copy a single file, shutil.copytree() will copy an entire folder and every folder and file contained in it."
   ]
  },
  {
   "cell_type": "markdown",
   "id": "a6732861",
   "metadata": {},
   "source": [
    "### 2. What function is used to rename files??\n",
    "Ans: 'os.rename()' function is used to rename files or directories using a python program, this function takes two arguments 'src' and 'dest', 'src' represents the name file/directory which we want to rename, whereas 'dest' represents the new name of the file/directory."
   ]
  },
  {
   "cell_type": "markdown",
   "id": "b89e7a3d",
   "metadata": {},
   "source": [
    "### 3. What is the difference between the delete functions in the send2trash and shutil modules?\n",
    "Ans: Shutil module provides a funciton called as 'shutil.rmtree()' which deletes a directory and all its contents. The other functions with similar functionality are 'os.remove()' removes a file, 'os.rmdir()' removes a empty directory. The problem with these functions is once a file is deleted. it will be lost permanently, if a file is deleted accidentally using these methods there is no way we can recover the deleted file\n",
    "\n",
    "Where as send2trash module provides a function called 'send2trash.send2trash()' to delete a file/directory. these methods moves the files/directories to trash folder instead of permanently deleting them. hence if a file/folder is deleted accidentally it can be still recovered from trash folder."
   ]
  },
  {
   "cell_type": "markdown",
   "id": "ca4ed792",
   "metadata": {},
   "source": [
    "### 4.ZipFile objects have a close() method just like File objects’ close() method. What ZipFile method is equivalent to File objects’ open() method?\n",
    "Ans: ZipFile Module provides a method called as 'zipfile.ZipFile()' to read and write to ZipFiles. it takes arguments like filename and mode etc 'zipfile.ZipFile('filename', mode = 'r')'"
   ]
  },
  {
   "cell_type": "markdown",
   "id": "a785fcea",
   "metadata": {},
   "source": [
    "### 5. Create a programme that searches a folder tree for files with a certain file extension (such as .pdf or .jpg). Copy these files from whatever location they are in to a new folder"
   ]
  },
  {
   "cell_type": "code",
   "execution_count": 17,
   "id": "1670d7d8",
   "metadata": {},
   "outputs": [
    {
     "name": "stdout",
     "output_type": "stream",
     "text": [
      "Folder Name ➞ C:\\Users\\bhupe\\ineuron\\ineuron_python_basic_assingments\\files\n",
      "Sub Folders ➞ []\n",
      "Files ➞ ['assignment-10.ipynb', 'assignment-3.ipynb', 'assignment-4.ipynb', 'assignment-5.ipynb', 'assignment-6.ipynb', 'assignment-7.ipynb', 'assignment-8.ipynb', 'assignment-9.ipynb', 'assingment-2.ipynb']\n",
      "successfully copied files from C:\\Users\\bhupe\\ineuron\\ineuron_python_basic_assingments\\files to C:\\Users\\bhupe\\ineuron\\ineuron_python_basic_assingments\\destination files\n"
     ]
    }
   ],
   "source": [
    "import os\n",
    "import shutil\n",
    "\n",
    "def search_and_copy(source,destination,extensions):\n",
    "    source = os.path.abspath(source)\n",
    "    destination = os.path.abspath(destination)\n",
    "    for folder, subfolder, filenames in os.walk(source):\n",
    "        print(f'Folder Name ➞ {folder}',end='\\n')\n",
    "        print(f'Sub Folders ➞ {subfolder}',end='\\n')\n",
    "        print(f'Files ➞ {filenames}',end='\\n')\n",
    "        for filename in filenames:\n",
    "            fileName,extension = os.path.splitext(filename)\n",
    "            if extension in extensions:\n",
    "                targetFile = folder+os.path.sep+fileName+extension\n",
    "                shutil.copy(targetFile, destination)\n",
    "        print(f'successfully copied files from {source} to {destination}')\n",
    "    \n",
    "extensions = ['.pdf','.jpg','.ipynb']\n",
    "source = 'files'\n",
    "destination = 'destination files'\n",
    "search_and_copy(source, destination, extensions)"
   ]
  }
 ],
 "metadata": {
  "kernelspec": {
   "display_name": "Python 3 (ipykernel)",
   "language": "python",
   "name": "python3"
  },
  "language_info": {
   "codemirror_mode": {
    "name": "ipython",
    "version": 3
   },
   "file_extension": ".py",
   "mimetype": "text/x-python",
   "name": "python",
   "nbconvert_exporter": "python",
   "pygments_lexer": "ipython3",
   "version": "3.9.12"
  }
 },
 "nbformat": 4,
 "nbformat_minor": 5
}
